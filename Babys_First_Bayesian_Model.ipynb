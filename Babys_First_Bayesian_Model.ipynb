{
 "cells": [
  {
   "cell_type": "markdown",
   "metadata": {},
   "source": [
    "# Building your own Bayesian model\n",
    "\n",
    "To develop a Bayesian solution to a statistical problem you need to break it into three parts *Model*, *Estimand* and *Algorithm*. \n",
    "\n",
    "### Model\n",
    "First, you are deciding on your likelihood function and priors. Remember the likelihood is the distribution that your data is created from. There are some obvious questions to ask to whittle down the likelihood choice;\n",
    "\n",
    "- Is the data binary or discrete or continuous?\n",
    "- Do you have enough data points to approach a gaussian approximation?\n",
    "- Is there a large order of magnitude difference between the lowest and highest values?\n",
    "- Is there a physical justification for any introduced errors?\n",
    "\n",
    "Second you choose the priors to sample your parameters from;\n",
    "\n",
    "- Do you have a suitable guess for an informative prior? Else stick with a weakly informative prior.\n",
    "- Could you use a high variance 'conjugate' prior? They tend to increase the speed of your code\n",
    "\n",
    "### Estimand\n",
    "Now you have thought through which distribution best models the data, you need to decide which parameter(s) of the model hold the information relevent to your biological question. With only 1 or 2 parameters this is a very simple step but models of thousands of parameters can make this rather tricky! Sometime the estimand you are intersted in is different from the parameter of the distribution. For example, consider a poisson model for the number of counts per gene. The $\\lambda$ parameter for the poisson may consist of a $A_i$ cell to cell scale factor and a $\\mu_j$ gene to gene mean, $\\lambda_{ij} = A_i \\mu_j$. You want $\\mu_j$ for biological interpretation but $A_i$ is vital experimentally.\n",
    "\n",
    "### Algorithm\n",
    "The workshop has glanced over this section under the assumption that the infinitely wise Andrew Gelman has sorted this out for our basic models. There are many different MCMC algorithms with many different positives and negatives. Nevermind the non-MCMC's algorithms.  For our models Stan's NUTS is like using a sledge hammer to crack...well...a nut.\n",
    "\n",
    "# You're on your own\n",
    "\n",
    "I've lifted a lovely data set of the number of great inventions and scientific discoveries per year between 1860-1959 from the even more lovely book by Ben Lambert \"A Student's Guide to Bayesian Statistics\". Can you come up with the posterior distribution for the mean number of inventions?"
   ]
  },
  {
   "cell_type": "code",
   "execution_count": null,
   "metadata": {},
   "outputs": [],
   "source": [
    "import pystan\n",
    "\n",
    "model_code=\"\"\"\n",
    "data { \n",
    "    // Define a variable to hold the number of data point being passed\n",
    "    \n",
    "    // Define another variable to actually hold the data\n",
    "\n",
    "}\n",
    "\n",
    "parameters {\n",
    "    // What is the actual parameter for the model? Are there any limits to its possible values?\n",
    "\n",
    "}\n",
    "\n",
    "model{\n",
    "    // Whats a reasonable prior for the parameter?\n",
    "    \n",
    "    // What is the likelihood?\n",
    "\n",
    "  }\n",
    "\"\"\"\n",
    "# ____Remember to compile the stan code_____\n",
    "\n"
   ]
  },
  {
   "cell_type": "code",
   "execution_count": 1,
   "metadata": {},
   "outputs": [],
   "source": [
    "# ___Import the dataset here from  data/evaluation_discoveries.csv____\n",
    "\n",
    "# ___Make sure the the key names in the pandas dataframe match that defined in the model code___\n",
    "\n",
    "# ___Trial a short version of your model just to check___\n"
   ]
  },
  {
   "cell_type": "code",
   "execution_count": null,
   "metadata": {},
   "outputs": [],
   "source": [
    "# ___If that works then go for the full monty___\n",
    "\n",
    "# ___Extract the parameters___\n",
    "\n",
    "# ___Plot a histogram/density plot of the posterior distribution___\n"
   ]
  },
  {
   "cell_type": "markdown",
   "metadata": {},
   "source": [
    "# The Next Step : Hierarchical Models\n",
    "\n",
    "Previously we have specified our likelihoods, then the priors and fixed the parameters of the priors to reasonable values. There's nothing stopping us from treating the parameters of our priors as random numbers themselves, to be sampled from an even higher level distribution. Why would we ever want to do this? \n",
    "\n",
    "Let's say you want to know the mean test score across all secondary school students in Edinburgh. You could pool all of the students from all of the schools together and find the mean of the nomral distribution across all. Or you could accept the fact that a students test score will be highly correlated to the school they go to. Therefore you need to find a suitable distribution from which to sample the school to school mean then overall mean. So you will have a higher level normal distribution for school to school means, which has priors for its mean and variance, feeding the means to the lower normal of student to student scores, with another prior on its variance.\n",
    "\n",
    "**CHALLENGE**\n",
    "\n",
    "Can you create both the simple bayesian model with just one normal distribution for all student schools pooled together and the second hierarchical model for accounting for school to school variation?"
   ]
  },
  {
   "cell_type": "code",
   "execution_count": null,
   "metadata": {},
   "outputs": [],
   "source": [
    "# BASIC MODEL\n",
    "import pystan\n",
    "\n",
    "model_code=\"\"\"\n",
    "data { \n",
    "    // Define a variable to hold the number of data point being passed\n",
    "    \n",
    "    // Define another variable to actually hold the data\n",
    "\n",
    "}\n",
    "\n",
    "parameters {\n",
    "    // What is the actual parameter for the model? Are there any limits to its possible values?\n",
    "\n",
    "}\n",
    "\n",
    "model{\n",
    "    // Whats a reasonable prior for the parameter?\n",
    "    \n",
    "    // What is the likelihood?\n",
    "\n",
    "  }\n",
    "\"\"\"\n",
    "# ____Remember to compile the stan code_____\n",
    "\n"
   ]
  },
  {
   "cell_type": "code",
   "execution_count": 1,
   "metadata": {},
   "outputs": [],
   "source": [
    "# ___Import the dataset here from  data/mean_test_results.csv ____\n",
    "\n",
    "# ___You will have to manipulate the data to allow stan to process it____\n",
    "# ___Can you find a way to combine all the columns into one long vector?___\n",
    "\n",
    "# ___Make sure the the key names in the pandas dataframe match that defined in the model code___\n",
    "\n",
    "# ___Trial a short version of your model just to check___\n"
   ]
  },
  {
   "cell_type": "code",
   "execution_count": 2,
   "metadata": {},
   "outputs": [],
   "source": [
    "# ___If that works then go for the full monty___\n",
    "\n",
    "# ___Extract the parameters___\n",
    "\n",
    "# ___Plot a histogram/density plot of the posterior distribution___\n"
   ]
  },
  {
   "cell_type": "code",
   "execution_count": null,
   "metadata": {},
   "outputs": [],
   "source": [
    "# Hierarchical MODEL\n",
    "import pystan\n",
    "\n",
    "model_code=\"\"\"\n",
    "data { \n",
    "    // Define two variables to hold the number of data point being passed (rows and columns)\n",
    "    \n",
    "    // Define another variable to actually hold the data (think about its structure)\n",
    "\n",
    "}\n",
    "\n",
    "parameters {\n",
    "    // What is the actual parameter for the model? Are there any limits to its possible values?\n",
    "\n",
    "}\n",
    "\n",
    "model{\n",
    "    // Whats a reasonable prior for the parameters?\n",
    "    \n",
    "    // Whats going to find the school means?\n",
    "    \n",
    "    // What is the student score likelihood?\n",
    "\n",
    "  }\n",
    "\"\"\"\n",
    "# ____Remember to compile the stan code_____\n",
    "\n"
   ]
  },
  {
   "cell_type": "code",
   "execution_count": null,
   "metadata": {},
   "outputs": [],
   "source": [
    "# ___Import the dataset here from  data/mean_test_results.csv ____\n",
    "\n",
    "# ___You will have to manipulate the data to allow stan to process it____\n",
    "# ___Can you find a way to convert the data into an array instead of a dataframe?___\n",
    "\n",
    "# ___Make sure the the key names in the pandas dataframe match that defined in the model code___\n",
    "\n",
    "# ___Trial a short version of your model just to check___\n"
   ]
  },
  {
   "cell_type": "code",
   "execution_count": null,
   "metadata": {},
   "outputs": [],
   "source": [
    "# ___If that works then go for the full monty___\n",
    "\n",
    "# ___Extract the parameters___\n",
    "\n",
    "# ___Plot a histogram/density plot of the posterior distribution___\n"
   ]
  }
 ],
 "metadata": {
  "kernelspec": {
   "display_name": "Python 3",
   "language": "python",
   "name": "python3"
  },
  "language_info": {
   "codemirror_mode": {
    "name": "ipython",
    "version": 3
   },
   "file_extension": ".py",
   "mimetype": "text/x-python",
   "name": "python",
   "nbconvert_exporter": "python",
   "pygments_lexer": "ipython3",
   "version": "3.7.1"
  }
 },
 "nbformat": 4,
 "nbformat_minor": 2
}
