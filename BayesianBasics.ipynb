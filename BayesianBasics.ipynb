{
 "cells": [
  {
   "cell_type": "code",
   "execution_count": 10,
   "metadata": {},
   "outputs": [
    {
     "data": {
      "text/html": [
       "<script>\n",
       "code_show=true; \n",
       "function code_toggle() {\n",
       " if (code_show){\n",
       " $('div.input').hide();\n",
       " } else {\n",
       " $('div.input').show();\n",
       " }\n",
       " code_show = !code_show\n",
       "} \n",
       "$( document ).ready(code_toggle);\n",
       "</script>\n",
       "The raw code for this IPython notebook is by default hidden for easier reading.\n",
       "To toggle on/off the raw code, click <a href=\"javascript:code_toggle()\">here</a>."
      ],
      "text/plain": [
       "<IPython.core.display.HTML object>"
      ]
     },
     "execution_count": 10,
     "metadata": {},
     "output_type": "execute_result"
    }
   ],
   "source": [
    "from IPython.display import HTML\n",
    "HTML('''<script>\n",
    "code_show=true; \n",
    "function code_toggle() {\n",
    " if (code_show){\n",
    " $('div.input').hide();\n",
    " } else {\n",
    " $('div.input').show();\n",
    " }\n",
    " code_show = !code_show\n",
    "} \n",
    "$( document ).ready(code_toggle);\n",
    "</script>\n",
    "The raw code for this IPython notebook is by default hidden for easier reading.\n",
    "To toggle on/off the raw code, click <a href=\"javascript:code_toggle()\">here</a>.''')"
   ]
  },
  {
   "cell_type": "markdown",
   "metadata": {},
   "source": [
    "# Probability Basics\n",
    "### Would you like a jelly baby?\n",
    "\n",
    "\n",
    "\n",
    "You want to assert your moral superiority over this complete stranger and ask if any of the sweets are vegan, naturally the stranger lists the exact numbers of jelly babies that are vegan and non vegan by colour. Your vacant look as the stranger lists a string of numbers in your direction prompts them to hand over a table they had conveniently pre-made.\n",
    "\n",
    " $\\ $| Red | Green | Blue | Yellow | Total\n",
    " --- | --- | --- | --- | --- | ---\n",
    "Vegan | 4 | 2 | 1 | 1 | 8\n",
    "Non-Vegan | 8 | 5 | 8 | 3 | 24\n",
    "Total | 12 | 7 | 9 | 4 | 32\n",
    "\n",
    "If all the sweets are mixed in one bag, what is the probability that you choose a vegan sweet, $p(vegan)$?"
   ]
  },
  {
   "cell_type": "code",
   "execution_count": 87,
   "metadata": {},
   "outputs": [
    {
     "data": {
      "application/vnd.jupyter.widget-view+json": {
       "model_id": "3d05a2d38f0b4bf7b03e6936e558807b",
       "version_major": 2,
       "version_minor": 0
      },
      "text/plain": [
       "HBox(children=(FloatText(value=0.0, description='Answer:', step=0.1), Valid(value=False, disabled=True, layout…"
      ]
     },
     "metadata": {},
     "output_type": "display_data"
    }
   ],
   "source": [
    "import ipywidgets as widgets\n",
    "\n",
    "answer = widgets.FloatText(\n",
    "    step=0.1,\n",
    "    value=0,\n",
    "    description='Answer:',\n",
    "    disabled=False\n",
    ")\n",
    "response = widgets.Valid(\n",
    "    value=False,\n",
    "    disabled=True,\n",
    "    readout='',\n",
    "    layout=widgets.Layout(width='50%', height='8px')\n",
    ")\n",
    "def check_answer(change):\n",
    "    if  answer.value != 0.5: \n",
    "        response.value = False\n",
    "    else: \n",
    "        response.value = True\n",
    "answer.observe(check_answer, names='value')\n",
    "widgets.HBox([answer, response])"
   ]
  },
  {
   "cell_type": "markdown",
   "metadata": {},
   "source": [
    "# Bayes Theorem \n",
    "\n",
    "$$p(x|\\theta)=\\frac{p(\\theta|x)p(x)}{p(\\theta)}$$"
   ]
  },
  {
   "cell_type": "code",
   "execution_count": null,
   "metadata": {},
   "outputs": [],
   "source": []
  }
 ],
 "metadata": {
  "kernelspec": {
   "display_name": "Python 3",
   "language": "python",
   "name": "python3"
  },
  "language_info": {
   "codemirror_mode": {
    "name": "ipython",
    "version": 3
   },
   "file_extension": ".py",
   "mimetype": "text/x-python",
   "name": "python",
   "nbconvert_exporter": "python",
   "pygments_lexer": "ipython3",
   "version": "3.7.1"
  }
 },
 "nbformat": 4,
 "nbformat_minor": 2
}
