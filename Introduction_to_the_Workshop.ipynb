{
 "cells": [
  {
   "cell_type": "markdown",
   "metadata": {},
   "source": [
    "# What is statistics?\n",
    "\n",
    "The task that unifies all research is to infer conclusions from the data that has been collected. With this comes an even earlier stage where you have attempted to guess the conclusions and so make decisions on the structure of the data to collect in order to best prove (or disprove) your hypotheses. Finally, and arguably most importantly, you must present and defend the data and your conclusions to your peers. \n",
    "\n",
    ">**Statistics** is the branch of mathematics invented to deal with data and tackle all the tasks described above in a logical way.\n",
    "\n",
    "Inevitably, we will never be able to collect the ideal data set. Even if you believe in determinism, pragmatism will always be the order of the day. The underlying usefulness of statistics is the ability to quantify the uncertainty of our decisions and conclusions given our imperfect data set, e.g. p-values. The task of quantifying what you do not know is an understandably non-trivial task. There are therefore two main schools of thought on how to solve this problem.\n",
    "\n",
    "### Bayesian vs Frequentist\n",
    "\n",
    "Frequentist statistics, otherwise known as classical statistics, is based on the assumption that an ideal distribution actually exists for any given data problem. If we were able to sample an infinite number of data sets in identical conditions we would reveal this 'population' distribution exactly. Any variation between data sets is simply due to the finite nature of our sampling. \n",
    "\n",
    "Bayesian statistics refutes the deterministic nature of the frequentist paradigm, that if all information was known (i.e. infinite sampling) an absolute population distribution would be found. Bayesians methods are very pragmatic in their approach by collating all the information known prior to the experiment and supplimenting it with any extra information gained from the new data collected to determine whether the hypotheses are now more or less likely than before. "
   ]
  },
  {
   "cell_type": "code",
   "execution_count": null,
   "metadata": {},
   "outputs": [],
   "source": []
  }
 ],
 "metadata": {
  "kernelspec": {
   "display_name": "Python 3",
   "language": "python",
   "name": "python3"
  },
  "language_info": {
   "codemirror_mode": {
    "name": "ipython",
    "version": 3
   },
   "file_extension": ".py",
   "mimetype": "text/x-python",
   "name": "python",
   "nbconvert_exporter": "python",
   "pygments_lexer": "ipython3",
   "version": "3.7.1"
  }
 },
 "nbformat": 4,
 "nbformat_minor": 2
}
